{
  "nbformat": 4,
  "nbformat_minor": 0,
  "metadata": {
    "colab": {
      "name": "Sentiment Analytics of Twitter using ULMFiT Model.ipynb",
      "provenance": [],
      "collapsed_sections": [],
      "toc_visible": true
    },
    "kernelspec": {
      "name": "python3",
      "display_name": "Python 3"
    },
    "accelerator": "GPU"
  },
  "cells": [
    {
      "cell_type": "markdown",
      "metadata": {
        "id": "lP6JLo1tGNBg",
        "colab_type": "text"
      },
      "source": [
        "# Sentiment Analytics of Twitter using ULMFiT\n",
        "\n"
      ]
    },
    {
      "cell_type": "markdown",
      "metadata": {
        "id": "6LejWzvMdldz",
        "colab_type": "text"
      },
      "source": [
        "## Problem Description"
      ]
    },
    {
      "cell_type": "markdown",
      "metadata": {
        "id": "G7k_O-c4dsJk",
        "colab_type": "text"
      },
      "source": [
        "A sentiment analysis job has to be done regarding the problems of each major U.S. airline and contributors. We have to first classify positive, negative and neutral tweets, and then categorize the negative tweets into \"late flight\" or \"rude service\".  https://www.kaggle.com/crowdflower/twitter-airline-sentiment\n",
        "\n",
        "We will apply a  supervised or semi-supervised ULMFiT model to the Twitter US Airlines Sentiment by following the ULMFiT approach of Howard, and Ruder described in the paper: https://arxiv.org/pdf/1801.06146.pdf."
      ]
    },
    {
      "cell_type": "markdown",
      "metadata": {
        "id": "gWZyYmS_UE_L",
        "colab_type": "text"
      },
      "source": [
        "### Importing the libraries"
      ]
    },
    {
      "cell_type": "code",
      "metadata": {
        "id": "MxkJoQBkUIHC",
        "colab_type": "code",
        "colab": {}
      },
      "source": [
        "import numpy as np\n",
        "import pandas as pd\n",
        "import seaborn as sns\n",
        "import matplotlib.pyplot as plt\n",
        "import tensorflow as tf\n",
        "import nltk\n",
        "import re\n",
        "import sklearn\n",
        "from fastai.metrics import accuracy\n",
        "from fastai.text import *\n",
        "from fastai import *\n"
      ],
      "execution_count": 40,
      "outputs": []
    },
    {
      "cell_type": "markdown",
      "metadata": {
        "id": "1E0Q3aoKUCRX",
        "colab_type": "text"
      },
      "source": [
        "## Preprocessing of Data"
      ]
    },
    {
      "cell_type": "markdown",
      "metadata": {
        "id": "cKWAkFVGUU0Z",
        "colab_type": "text"
      },
      "source": [
        "### Importing the dataset"
      ]
    },
    {
      "cell_type": "code",
      "metadata": {
        "id": "MXUkhkMfU4wq",
        "colab_type": "code",
        "colab": {}
      },
      "source": [
        "dat = pd.read_csv('Tweets.csv')"
      ],
      "execution_count": 88,
      "outputs": []
    },
    {
      "cell_type": "code",
      "metadata": {
        "id": "8CgUdVBqZnba",
        "colab_type": "code",
        "colab": {
          "base_uri": "https://localhost:8080/",
          "height": 445
        },
        "outputId": "64c71445-e1b9-4e45-eed0-428440e55d5e"
      },
      "source": [
        "dat.head()"
      ],
      "execution_count": 89,
      "outputs": [
        {
          "output_type": "execute_result",
          "data": {
            "text/html": [
              "<div>\n",
              "<style scoped>\n",
              "    .dataframe tbody tr th:only-of-type {\n",
              "        vertical-align: middle;\n",
              "    }\n",
              "\n",
              "    .dataframe tbody tr th {\n",
              "        vertical-align: top;\n",
              "    }\n",
              "\n",
              "    .dataframe thead th {\n",
              "        text-align: right;\n",
              "    }\n",
              "</style>\n",
              "<table border=\"1\" class=\"dataframe\">\n",
              "  <thead>\n",
              "    <tr style=\"text-align: right;\">\n",
              "      <th></th>\n",
              "      <th>tweet_id</th>\n",
              "      <th>airline_sentiment</th>\n",
              "      <th>airline_sentiment_confidence</th>\n",
              "      <th>negativereason</th>\n",
              "      <th>negativereason_confidence</th>\n",
              "      <th>airline</th>\n",
              "      <th>airline_sentiment_gold</th>\n",
              "      <th>name</th>\n",
              "      <th>negativereason_gold</th>\n",
              "      <th>retweet_count</th>\n",
              "      <th>text</th>\n",
              "      <th>tweet_coord</th>\n",
              "      <th>tweet_created</th>\n",
              "      <th>tweet_location</th>\n",
              "      <th>user_timezone</th>\n",
              "    </tr>\n",
              "  </thead>\n",
              "  <tbody>\n",
              "    <tr>\n",
              "      <th>0</th>\n",
              "      <td>570306133677760513</td>\n",
              "      <td>neutral</td>\n",
              "      <td>1.0000</td>\n",
              "      <td>NaN</td>\n",
              "      <td>NaN</td>\n",
              "      <td>Virgin America</td>\n",
              "      <td>NaN</td>\n",
              "      <td>cairdin</td>\n",
              "      <td>NaN</td>\n",
              "      <td>0</td>\n",
              "      <td>@VirginAmerica What @dhepburn said.</td>\n",
              "      <td>NaN</td>\n",
              "      <td>2015-02-24 11:35:52 -0800</td>\n",
              "      <td>NaN</td>\n",
              "      <td>Eastern Time (US &amp; Canada)</td>\n",
              "    </tr>\n",
              "    <tr>\n",
              "      <th>1</th>\n",
              "      <td>570301130888122368</td>\n",
              "      <td>positive</td>\n",
              "      <td>0.3486</td>\n",
              "      <td>NaN</td>\n",
              "      <td>0.0000</td>\n",
              "      <td>Virgin America</td>\n",
              "      <td>NaN</td>\n",
              "      <td>jnardino</td>\n",
              "      <td>NaN</td>\n",
              "      <td>0</td>\n",
              "      <td>@VirginAmerica plus you've added commercials t...</td>\n",
              "      <td>NaN</td>\n",
              "      <td>2015-02-24 11:15:59 -0800</td>\n",
              "      <td>NaN</td>\n",
              "      <td>Pacific Time (US &amp; Canada)</td>\n",
              "    </tr>\n",
              "    <tr>\n",
              "      <th>2</th>\n",
              "      <td>570301083672813571</td>\n",
              "      <td>neutral</td>\n",
              "      <td>0.6837</td>\n",
              "      <td>NaN</td>\n",
              "      <td>NaN</td>\n",
              "      <td>Virgin America</td>\n",
              "      <td>NaN</td>\n",
              "      <td>yvonnalynn</td>\n",
              "      <td>NaN</td>\n",
              "      <td>0</td>\n",
              "      <td>@VirginAmerica I didn't today... Must mean I n...</td>\n",
              "      <td>NaN</td>\n",
              "      <td>2015-02-24 11:15:48 -0800</td>\n",
              "      <td>Lets Play</td>\n",
              "      <td>Central Time (US &amp; Canada)</td>\n",
              "    </tr>\n",
              "    <tr>\n",
              "      <th>3</th>\n",
              "      <td>570301031407624196</td>\n",
              "      <td>negative</td>\n",
              "      <td>1.0000</td>\n",
              "      <td>Bad Flight</td>\n",
              "      <td>0.7033</td>\n",
              "      <td>Virgin America</td>\n",
              "      <td>NaN</td>\n",
              "      <td>jnardino</td>\n",
              "      <td>NaN</td>\n",
              "      <td>0</td>\n",
              "      <td>@VirginAmerica it's really aggressive to blast...</td>\n",
              "      <td>NaN</td>\n",
              "      <td>2015-02-24 11:15:36 -0800</td>\n",
              "      <td>NaN</td>\n",
              "      <td>Pacific Time (US &amp; Canada)</td>\n",
              "    </tr>\n",
              "    <tr>\n",
              "      <th>4</th>\n",
              "      <td>570300817074462722</td>\n",
              "      <td>negative</td>\n",
              "      <td>1.0000</td>\n",
              "      <td>Can't Tell</td>\n",
              "      <td>1.0000</td>\n",
              "      <td>Virgin America</td>\n",
              "      <td>NaN</td>\n",
              "      <td>jnardino</td>\n",
              "      <td>NaN</td>\n",
              "      <td>0</td>\n",
              "      <td>@VirginAmerica and it's a really big bad thing...</td>\n",
              "      <td>NaN</td>\n",
              "      <td>2015-02-24 11:14:45 -0800</td>\n",
              "      <td>NaN</td>\n",
              "      <td>Pacific Time (US &amp; Canada)</td>\n",
              "    </tr>\n",
              "  </tbody>\n",
              "</table>\n",
              "</div>"
            ],
            "text/plain": [
              "             tweet_id  ...               user_timezone\n",
              "0  570306133677760513  ...  Eastern Time (US & Canada)\n",
              "1  570301130888122368  ...  Pacific Time (US & Canada)\n",
              "2  570301083672813571  ...  Central Time (US & Canada)\n",
              "3  570301031407624196  ...  Pacific Time (US & Canada)\n",
              "4  570300817074462722  ...  Pacific Time (US & Canada)\n",
              "\n",
              "[5 rows x 15 columns]"
            ]
          },
          "metadata": {
            "tags": []
          },
          "execution_count": 89
        }
      ]
    },
    {
      "cell_type": "markdown",
      "metadata": {
        "id": "mrtDp2LWs-yh",
        "colab_type": "text"
      },
      "source": [
        "### Handling the missing values"
      ]
    },
    {
      "cell_type": "markdown",
      "metadata": {
        "id": "hEtGCgkTt6xt",
        "colab_type": "text"
      },
      "source": [
        "Identification of missing values will enable us to identify unnecessary columns in the data.\n",
        "\n",
        "The which column which has maximum number of null values will be treated as unnecessary."
      ]
    },
    {
      "cell_type": "code",
      "metadata": {
        "id": "rqMVBCkDtmXv",
        "colab_type": "code",
        "colab": {
          "base_uri": "https://localhost:8080/",
          "height": 289
        },
        "outputId": "235fbb9d-2469-4ff7-cc00-b3e632949696"
      },
      "source": [
        "print(\"Null Values\", dat.isna().sum())"
      ],
      "execution_count": 30,
      "outputs": [
        {
          "output_type": "stream",
          "text": [
            "Null Values tweet_id                            0\n",
            "airline_sentiment                   0\n",
            "airline_sentiment_confidence        0\n",
            "negativereason                   5462\n",
            "negativereason_confidence        4118\n",
            "airline                             0\n",
            "airline_sentiment_gold          14600\n",
            "name                                0\n",
            "negativereason_gold             14608\n",
            "retweet_count                       0\n",
            "text                                0\n",
            "tweet_coord                     13621\n",
            "tweet_created                       0\n",
            "tweet_location                   4733\n",
            "user_timezone                    4820\n",
            "dtype: int64\n"
          ],
          "name": "stdout"
        }
      ]
    },
    {
      "cell_type": "markdown",
      "metadata": {
        "id": "tKQ5EVMGRsgO",
        "colab_type": "text"
      },
      "source": [
        "The features tweet_coord , airline_sentiment_gold, negativereason_gold has maximum missing values. So, we have to drop these features"
      ]
    },
    {
      "cell_type": "code",
      "metadata": {
        "id": "uQN9xm7wR-9W",
        "colab_type": "code",
        "colab": {}
      },
      "source": [
        "dat.drop([\"tweet_coord\", \"airline_sentiment_gold\", \"negativereason_gold\"],axis=1, inplace = True)"
      ],
      "execution_count": 42,
      "outputs": []
    },
    {
      "cell_type": "markdown",
      "metadata": {
        "id": "bXw1BO_WXAEi",
        "colab_type": "text"
      },
      "source": [
        "### Visualization of Dataset"
      ]
    },
    {
      "cell_type": "code",
      "metadata": {
        "id": "n-G2HrzjdSXA",
        "colab_type": "code",
        "colab": {
          "base_uri": "https://localhost:8080/",
          "height": 301
        },
        "outputId": "da78f9cb-227c-4b5a-bcdb-83a73dea876a"
      },
      "source": [
        "sns.set()\n",
        "sns.countplot(x=dat[\"airline_sentiment\"])\n",
        "plt.title(\"Airline_Sentiment\")\n",
        "plt.show()"
      ],
      "execution_count": 32,
      "outputs": [
        {
          "output_type": "display_data",
          "data": {
            "image/png": "[encoded data removed]",
            "text/plain": [
              "<Figure size 432x288 with 1 Axes>"
            ]
          },
          "metadata": {
            "tags": []
          }
        }
      ]
    },
    {
      "cell_type": "markdown",
      "metadata": {
        "id": "v3BQwxWzhE8A",
        "colab_type": "text"
      },
      "source": [
        "Highest count of the comments are negative is visible."
      ]
    },
    {
      "cell_type": "code",
      "metadata": {
        "id": "fUmEUhDFhtYC",
        "colab_type": "code",
        "colab": {
          "base_uri": "https://localhost:8080/",
          "height": 355
        },
        "outputId": "e3cc3136-2b3f-413d-db64-18a6bf3ebea7"
      },
      "source": [
        "sns.set()\n",
        "plt.figure(figsize=(5,5))\n",
        "sns.countplot(x=dat[\"airline\"])\n",
        "plt.title(\"Airline_Distribution\")\n",
        "plt.show()"
      ],
      "execution_count": 14,
      "outputs": [
        {
          "output_type": "display_data",
          "data": {
            "image/png": "[encoded data removed]",
            "text/plain": [
              "<Figure size 360x360 with 1 Axes>"
            ]
          },
          "metadata": {
            "tags": []
          }
        }
      ]
    },
    {
      "cell_type": "code",
      "metadata": {
        "id": "w9zySK63jmjY",
        "colab_type": "code",
        "colab": {
          "base_uri": "https://localhost:8080/",
          "height": 301
        },
        "outputId": "29e87a54-9767-48bc-b107-2c0cc09558cf"
      },
      "source": [
        "sns.set()\n",
        "plt.figure()\n",
        "sns.countplot(x=dataset[\"airline\"], hue=dataset[\"airline_sentiment\"])\n",
        "plt.title(\"Sentiment_Distribution\")\n",
        "plt.show()"
      ],
      "execution_count": 15,
      "outputs": [
        {
          "output_type": "display_data",
          "data": {
            "image/png": "[encoded data removed]",
            "text/plain": [
              "<Figure size 432x288 with 1 Axes>"
            ]
          },
          "metadata": {
            "tags": []
          }
        }
      ]
    },
    {
      "cell_type": "markdown",
      "metadata": {
        "id": "SFI_N_yylqwr",
        "colab_type": "text"
      },
      "source": [
        "Virgin America has most positive response, while is United has the most negative response from customers."
      ]
    },
    {
      "cell_type": "code",
      "metadata": {
        "id": "p-hphWjQ7P-K",
        "colab_type": "code",
        "colab": {
          "base_uri": "https://localhost:8080/",
          "height": 627
        },
        "outputId": "6ca1bf88-be9c-4f20-c091-f4f97f89d811"
      },
      "source": [
        "sns.set()\n",
        "plt.figure(figsize=(15,10))\n",
        "#plt.figure()\n",
        "sns.countplot(x=dataset[\"negativereason\"])\n",
        "plt.title(\"Sentiment_Distribution_For_Each_Airline\")\n",
        "plt.show()"
      ],
      "execution_count": 18,
      "outputs": [
        {
          "output_type": "display_data",
          "data": {
            "image/png": "[encoded data removed]",
            "text/plain": [
              "<Figure size 1080x720 with 1 Axes>"
            ]
          },
          "metadata": {
            "tags": []
          }
        }
      ]
    },
    {
      "cell_type": "markdown",
      "metadata": {
        "id": "qz3bCNy9_S1N",
        "colab_type": "text"
      },
      "source": [
        "The most common reason for any negative tweet is the bad customer service offered by the airline."
      ]
    },
    {
      "cell_type": "code",
      "metadata": {
        "id": "iQz8Ne8UuUD3",
        "colab_type": "code",
        "colab": {
          "base_uri": "https://localhost:8080/",
          "height": 204
        },
        "outputId": "8a8d56b2-b856-414e-92ce-9203fecc1292"
      },
      "source": [
        "sn = dat[['airline_sentiment','text']]\n",
        "sn.head()"
      ],
      "execution_count": 43,
      "outputs": [
        {
          "output_type": "execute_result",
          "data": {
            "text/html": [
              "<div>\n",
              "<style scoped>\n",
              "    .dataframe tbody tr th:only-of-type {\n",
              "        vertical-align: middle;\n",
              "    }\n",
              "\n",
              "    .dataframe tbody tr th {\n",
              "        vertical-align: top;\n",
              "    }\n",
              "\n",
              "    .dataframe thead th {\n",
              "        text-align: right;\n",
              "    }\n",
              "</style>\n",
              "<table border=\"1\" class=\"dataframe\">\n",
              "  <thead>\n",
              "    <tr style=\"text-align: right;\">\n",
              "      <th></th>\n",
              "      <th>airline_sentiment</th>\n",
              "      <th>text</th>\n",
              "    </tr>\n",
              "  </thead>\n",
              "  <tbody>\n",
              "    <tr>\n",
              "      <th>0</th>\n",
              "      <td>neutral</td>\n",
              "      <td>@VirginAmerica What @dhepburn said.</td>\n",
              "    </tr>\n",
              "    <tr>\n",
              "      <th>1</th>\n",
              "      <td>positive</td>\n",
              "      <td>@VirginAmerica plus you've added commercials t...</td>\n",
              "    </tr>\n",
              "    <tr>\n",
              "      <th>2</th>\n",
              "      <td>neutral</td>\n",
              "      <td>@VirginAmerica I didn't today... Must mean I n...</td>\n",
              "    </tr>\n",
              "    <tr>\n",
              "      <th>3</th>\n",
              "      <td>negative</td>\n",
              "      <td>@VirginAmerica it's really aggressive to blast...</td>\n",
              "    </tr>\n",
              "    <tr>\n",
              "      <th>4</th>\n",
              "      <td>negative</td>\n",
              "      <td>@VirginAmerica and it's a really big bad thing...</td>\n",
              "    </tr>\n",
              "  </tbody>\n",
              "</table>\n",
              "</div>"
            ],
            "text/plain": [
              "  airline_sentiment                                               text\n",
              "0           neutral                @VirginAmerica What @dhepburn said.\n",
              "1          positive  @VirginAmerica plus you've added commercials t...\n",
              "2           neutral  @VirginAmerica I didn't today... Must mean I n...\n",
              "3          negative  @VirginAmerica it's really aggressive to blast...\n",
              "4          negative  @VirginAmerica and it's a really big bad thing..."
            ]
          },
          "metadata": {
            "tags": []
          },
          "execution_count": 43
        }
      ]
    },
    {
      "cell_type": "markdown",
      "metadata": {
        "id": "qpU-XSjIvENA",
        "colab_type": "text"
      },
      "source": [
        "We need to clean the column text.Text cleaning can be done by:\n",
        "1. Removing characters apart from A-Z and a-z.\n",
        "2. Converting all the characters in Lowercase.\n",
        "3. Replace 'https://' with 'url' \n",
        "\n"
      ]
    },
    {
      "cell_type": "code",
      "metadata": {
        "id": "3cQq0D5WvWJA",
        "colab_type": "code",
        "colab": {}
      },
      "source": [
        "\n",
        "tweets = []\n",
        "for i in range(0, len(sn)):\n",
        "    txt= re.sub('[^a-zA-Z]', ' ', sn['text'][i])\n",
        "    txt = txt.lower()\n",
        "    txt = re.sub(r'#([^\\s]+)', r'\\1', sn['text'][i])\n",
        "    text = re.sub('((www\\.[^\\s]+)|(https?://[^\\s]+))','link',sn['text'][i])\n",
        "    tweets.append(txt)\n",
        "    "
      ],
      "execution_count": 45,
      "outputs": []
    },
    {
      "cell_type": "code",
      "metadata": {
        "id": "z9ZMcGHkJnuk",
        "colab_type": "code",
        "colab": {
          "base_uri": "https://localhost:8080/",
          "height": 224
        },
        "outputId": "e7081fda-8b0b-459f-cb2d-88ad074f0def"
      },
      "source": [
        "sn['cleaned_tweets']= tweets\n",
        "sn.drop([\"text\"],axis=1, inplace = True)"
      ],
      "execution_count": 46,
      "outputs": [
        {
          "output_type": "stream",
          "text": [
            "/usr/local/lib/python3.6/dist-packages/ipykernel_launcher.py:1: SettingWithCopyWarning: \n",
            "A value is trying to be set on a copy of a slice from a DataFrame.\n",
            "Try using .loc[row_indexer,col_indexer] = value instead\n",
            "\n",
            "See the caveats in the documentation: https://pandas.pydata.org/pandas-docs/stable/user_guide/indexing.html#returning-a-view-versus-a-copy\n",
            "  \"\"\"Entry point for launching an IPython kernel.\n",
            "/usr/local/lib/python3.6/dist-packages/pandas/core/frame.py:3997: SettingWithCopyWarning: \n",
            "A value is trying to be set on a copy of a slice from a DataFrame\n",
            "\n",
            "See the caveats in the documentation: https://pandas.pydata.org/pandas-docs/stable/user_guide/indexing.html#returning-a-view-versus-a-copy\n",
            "  errors=errors,\n"
          ],
          "name": "stderr"
        }
      ]
    },
    {
      "cell_type": "code",
      "metadata": {
        "id": "w_xd9XHLCRKu",
        "colab_type": "code",
        "colab": {
          "base_uri": "https://localhost:8080/",
          "height": 419
        },
        "outputId": "28a3d16d-40b7-426b-93b8-a2153c8f7479"
      },
      "source": [
        "sn"
      ],
      "execution_count": 47,
      "outputs": [
        {
          "output_type": "execute_result",
          "data": {
            "text/html": [
              "<div>\n",
              "<style scoped>\n",
              "    .dataframe tbody tr th:only-of-type {\n",
              "        vertical-align: middle;\n",
              "    }\n",
              "\n",
              "    .dataframe tbody tr th {\n",
              "        vertical-align: top;\n",
              "    }\n",
              "\n",
              "    .dataframe thead th {\n",
              "        text-align: right;\n",
              "    }\n",
              "</style>\n",
              "<table border=\"1\" class=\"dataframe\">\n",
              "  <thead>\n",
              "    <tr style=\"text-align: right;\">\n",
              "      <th></th>\n",
              "      <th>airline_sentiment</th>\n",
              "      <th>cleaned_tweets</th>\n",
              "    </tr>\n",
              "  </thead>\n",
              "  <tbody>\n",
              "    <tr>\n",
              "      <th>0</th>\n",
              "      <td>neutral</td>\n",
              "      <td>@VirginAmerica What @dhepburn said.</td>\n",
              "    </tr>\n",
              "    <tr>\n",
              "      <th>1</th>\n",
              "      <td>positive</td>\n",
              "      <td>@VirginAmerica plus you've added commercials t...</td>\n",
              "    </tr>\n",
              "    <tr>\n",
              "      <th>2</th>\n",
              "      <td>neutral</td>\n",
              "      <td>@VirginAmerica I didn't today... Must mean I n...</td>\n",
              "    </tr>\n",
              "    <tr>\n",
              "      <th>3</th>\n",
              "      <td>negative</td>\n",
              "      <td>@VirginAmerica it's really aggressive to blast...</td>\n",
              "    </tr>\n",
              "    <tr>\n",
              "      <th>4</th>\n",
              "      <td>negative</td>\n",
              "      <td>@VirginAmerica and it's a really big bad thing...</td>\n",
              "    </tr>\n",
              "    <tr>\n",
              "      <th>...</th>\n",
              "      <td>...</td>\n",
              "      <td>...</td>\n",
              "    </tr>\n",
              "    <tr>\n",
              "      <th>14635</th>\n",
              "      <td>positive</td>\n",
              "      <td>@AmericanAir thank you we got on a different f...</td>\n",
              "    </tr>\n",
              "    <tr>\n",
              "      <th>14636</th>\n",
              "      <td>negative</td>\n",
              "      <td>@AmericanAir leaving over 20 minutes Late Flig...</td>\n",
              "    </tr>\n",
              "    <tr>\n",
              "      <th>14637</th>\n",
              "      <td>neutral</td>\n",
              "      <td>@AmericanAir Please bring American Airlines to...</td>\n",
              "    </tr>\n",
              "    <tr>\n",
              "      <th>14638</th>\n",
              "      <td>negative</td>\n",
              "      <td>@AmericanAir you have my money, you change my ...</td>\n",
              "    </tr>\n",
              "    <tr>\n",
              "      <th>14639</th>\n",
              "      <td>neutral</td>\n",
              "      <td>@AmericanAir we have 8 ppl so we need 2 know h...</td>\n",
              "    </tr>\n",
              "  </tbody>\n",
              "</table>\n",
              "<p>14640 rows × 2 columns</p>\n",
              "</div>"
            ],
            "text/plain": [
              "      airline_sentiment                                     cleaned_tweets\n",
              "0               neutral                @VirginAmerica What @dhepburn said.\n",
              "1              positive  @VirginAmerica plus you've added commercials t...\n",
              "2               neutral  @VirginAmerica I didn't today... Must mean I n...\n",
              "3              negative  @VirginAmerica it's really aggressive to blast...\n",
              "4              negative  @VirginAmerica and it's a really big bad thing...\n",
              "...                 ...                                                ...\n",
              "14635          positive  @AmericanAir thank you we got on a different f...\n",
              "14636          negative  @AmericanAir leaving over 20 minutes Late Flig...\n",
              "14637           neutral  @AmericanAir Please bring American Airlines to...\n",
              "14638          negative  @AmericanAir you have my money, you change my ...\n",
              "14639           neutral  @AmericanAir we have 8 ppl so we need 2 know h...\n",
              "\n",
              "[14640 rows x 2 columns]"
            ]
          },
          "metadata": {
            "tags": []
          },
          "execution_count": 47
        }
      ]
    },
    {
      "cell_type": "markdown",
      "metadata": {
        "id": "vHol938cW8zd",
        "colab_type": "text"
      },
      "source": [
        "### Splitting the dataset"
      ]
    },
    {
      "cell_type": "markdown",
      "metadata": {
        "id": "rP2jr0Y5_LZu",
        "colab_type": "text"
      },
      "source": [
        "We will only use the two columns that are 'cleaned_tweets' and 'airline_sentiment' and create new_df."
      ]
    },
    {
      "cell_type": "code",
      "metadata": {
        "id": "51hjk1bB9fyj",
        "colab_type": "code",
        "colab": {
          "base_uri": "https://localhost:8080/",
          "height": 419
        },
        "outputId": "219b5dd7-d15b-4db3-faa6-85b67c73e88f"
      },
      "source": [
        "new_df = sn[['cleaned_tweets','airline_sentiment']]\n",
        "new_df"
      ],
      "execution_count": 49,
      "outputs": [
        {
          "output_type": "execute_result",
          "data": {
            "text/html": [
              "<div>\n",
              "<style scoped>\n",
              "    .dataframe tbody tr th:only-of-type {\n",
              "        vertical-align: middle;\n",
              "    }\n",
              "\n",
              "    .dataframe tbody tr th {\n",
              "        vertical-align: top;\n",
              "    }\n",
              "\n",
              "    .dataframe thead th {\n",
              "        text-align: right;\n",
              "    }\n",
              "</style>\n",
              "<table border=\"1\" class=\"dataframe\">\n",
              "  <thead>\n",
              "    <tr style=\"text-align: right;\">\n",
              "      <th></th>\n",
              "      <th>cleaned_tweets</th>\n",
              "      <th>airline_sentiment</th>\n",
              "    </tr>\n",
              "  </thead>\n",
              "  <tbody>\n",
              "    <tr>\n",
              "      <th>0</th>\n",
              "      <td>@VirginAmerica What @dhepburn said.</td>\n",
              "      <td>neutral</td>\n",
              "    </tr>\n",
              "    <tr>\n",
              "      <th>1</th>\n",
              "      <td>@VirginAmerica plus you've added commercials t...</td>\n",
              "      <td>positive</td>\n",
              "    </tr>\n",
              "    <tr>\n",
              "      <th>2</th>\n",
              "      <td>@VirginAmerica I didn't today... Must mean I n...</td>\n",
              "      <td>neutral</td>\n",
              "    </tr>\n",
              "    <tr>\n",
              "      <th>3</th>\n",
              "      <td>@VirginAmerica it's really aggressive to blast...</td>\n",
              "      <td>negative</td>\n",
              "    </tr>\n",
              "    <tr>\n",
              "      <th>4</th>\n",
              "      <td>@VirginAmerica and it's a really big bad thing...</td>\n",
              "      <td>negative</td>\n",
              "    </tr>\n",
              "    <tr>\n",
              "      <th>...</th>\n",
              "      <td>...</td>\n",
              "      <td>...</td>\n",
              "    </tr>\n",
              "    <tr>\n",
              "      <th>14635</th>\n",
              "      <td>@AmericanAir thank you we got on a different f...</td>\n",
              "      <td>positive</td>\n",
              "    </tr>\n",
              "    <tr>\n",
              "      <th>14636</th>\n",
              "      <td>@AmericanAir leaving over 20 minutes Late Flig...</td>\n",
              "      <td>negative</td>\n",
              "    </tr>\n",
              "    <tr>\n",
              "      <th>14637</th>\n",
              "      <td>@AmericanAir Please bring American Airlines to...</td>\n",
              "      <td>neutral</td>\n",
              "    </tr>\n",
              "    <tr>\n",
              "      <th>14638</th>\n",
              "      <td>@AmericanAir you have my money, you change my ...</td>\n",
              "      <td>negative</td>\n",
              "    </tr>\n",
              "    <tr>\n",
              "      <th>14639</th>\n",
              "      <td>@AmericanAir we have 8 ppl so we need 2 know h...</td>\n",
              "      <td>neutral</td>\n",
              "    </tr>\n",
              "  </tbody>\n",
              "</table>\n",
              "<p>14640 rows × 2 columns</p>\n",
              "</div>"
            ],
            "text/plain": [
              "                                          cleaned_tweets airline_sentiment\n",
              "0                    @VirginAmerica What @dhepburn said.           neutral\n",
              "1      @VirginAmerica plus you've added commercials t...          positive\n",
              "2      @VirginAmerica I didn't today... Must mean I n...           neutral\n",
              "3      @VirginAmerica it's really aggressive to blast...          negative\n",
              "4      @VirginAmerica and it's a really big bad thing...          negative\n",
              "...                                                  ...               ...\n",
              "14635  @AmericanAir thank you we got on a different f...          positive\n",
              "14636  @AmericanAir leaving over 20 minutes Late Flig...          negative\n",
              "14637  @AmericanAir Please bring American Airlines to...           neutral\n",
              "14638  @AmericanAir you have my money, you change my ...          negative\n",
              "14639  @AmericanAir we have 8 ppl so we need 2 know h...           neutral\n",
              "\n",
              "[14640 rows x 2 columns]"
            ]
          },
          "metadata": {
            "tags": []
          },
          "execution_count": 49
        }
      ]
    },
    {
      "cell_type": "markdown",
      "metadata": {
        "id": "XafFb2ru_br8",
        "colab_type": "text"
      },
      "source": [
        "Training set= 80%\n",
        "\n",
        "Testing set= 20% "
      ]
    },
    {
      "cell_type": "code",
      "metadata": {
        "id": "d0Zs_DZv_soC",
        "colab_type": "code",
        "colab": {}
      },
      "source": [
        "from sklearn.model_selection import train_test_split\n",
        "df_train, df_test = train_test_split(new_df,test_size=0.2,random_state=5)"
      ],
      "execution_count": 51,
      "outputs": []
    },
    {
      "cell_type": "code",
      "metadata": {
        "id": "hKKcxj6wAfG2",
        "colab_type": "code",
        "colab": {}
      },
      "source": [
        "df_train.to_csv('twitter_train.csv')\n",
        "df_test.to_csv('twitter_test.csv')"
      ],
      "execution_count": 52,
      "outputs": []
    },
    {
      "cell_type": "markdown",
      "metadata": {
        "id": "-zfEzkRVXIwF",
        "colab_type": "text"
      },
      "source": [
        "## ULMFiT Model Building"
      ]
    },
    {
      "cell_type": "markdown",
      "metadata": {
        "id": "KvdeScabXtlB",
        "colab_type": "text"
      },
      "source": [
        "### Build the Language Model"
      ]
    },
    {
      "cell_type": "markdown",
      "metadata": {
        "id": "Kc6C6aYwM62f",
        "colab_type": "text"
      },
      "source": [
        "We will use TextDataBunch for training the language model.\n",
        "\n",
        "Validation set will be 10%"
      ]
    },
    {
      "cell_type": "code",
      "metadata": {
        "id": "3dtrScHxXQox",
        "colab_type": "code",
        "colab": {
          "base_uri": "https://localhost:8080/",
          "height": 17
        },
        "outputId": "ee382e10-d833-4077-f6cb-6eadf861cbbd"
      },
      "source": [
        "tweet = TextLMDataBunch.from_csv(path='',csv_name='twitter_train.csv',valid_pct=0.1)\n"
      ],
      "execution_count": 53,
      "outputs": [
        {
          "output_type": "display_data",
          "data": {
            "text/html": [
              ""
            ],
            "text/plain": [
              "<IPython.core.display.HTML object>"
            ]
          },
          "metadata": {
            "tags": []
          }
        },
        {
          "output_type": "display_data",
          "data": {
            "text/html": [
              ""
            ],
            "text/plain": [
              "<IPython.core.display.HTML object>"
            ]
          },
          "metadata": {
            "tags": []
          }
        }
      ]
    },
    {
      "cell_type": "markdown",
      "metadata": {
        "id": "yfMf93ACT3oa",
        "colab_type": "text"
      },
      "source": [
        "For building the language model, we use language_model_learner() from fastai. We will use AWD_LSTM architecture for our language model.\n"
      ]
    },
    {
      "cell_type": "code",
      "metadata": {
        "id": "xRtOkn9NWXOj",
        "colab_type": "code",
        "colab": {
          "base_uri": "https://localhost:8080/",
          "height": 34
        },
        "outputId": "fdfdf50e-8cc6-44b2-87d7-15d63114e6fe"
      },
      "source": [
        "model = language_model_learner(tweet, AWD_LSTM, drop_mult=0.3)"
      ],
      "execution_count": 54,
      "outputs": [
        {
          "output_type": "stream",
          "text": [
            "Downloading https://s3.amazonaws.com/fast-ai-modelzoo/wt103-fwd.tgz\n"
          ],
          "name": "stdout"
        },
        {
          "output_type": "display_data",
          "data": {
            "text/html": [
              ""
            ],
            "text/plain": [
              "<IPython.core.display.HTML object>"
            ]
          },
          "metadata": {
            "tags": []
          }
        }
      ]
    },
    {
      "cell_type": "markdown",
      "metadata": {
        "id": "6poaUQIsgBcS",
        "colab_type": "text"
      },
      "source": [
        "\n",
        "We use learning rate find to identify the optimum learning rate."
      ]
    },
    {
      "cell_type": "code",
      "metadata": {
        "id": "rmfxCKB8iDmV",
        "colab_type": "code",
        "colab": {
          "base_uri": "https://localhost:8080/",
          "height": 143
        },
        "outputId": "cd42f226-4f77-4eb5-e2db-e5e3baa1441c"
      },
      "source": [
        "model.lr_find()"
      ],
      "execution_count": 55,
      "outputs": [
        {
          "output_type": "display_data",
          "data": {
            "text/html": [
              "\n",
              "    <div>\n",
              "        <style>\n",
              "            /* Turns off some styling */\n",
              "            progress {\n",
              "                /* gets rid of default border in Firefox and Opera. */\n",
              "                border: none;\n",
              "                /* Needs to be in here for Safari polyfill so background images work as expected. */\n",
              "                background-size: auto;\n",
              "            }\n",
              "            .progress-bar-interrupted, .progress-bar-interrupted::-webkit-progress-bar {\n",
              "                background: #F44336;\n",
              "            }\n",
              "        </style>\n",
              "      <progress value='1' class='' max='2' style='width:300px; height:20px; vertical-align: middle;'></progress>\n",
              "      50.00% [1/2 00:08<00:08]\n",
              "    </div>\n",
              "    \n",
              "<table border=\"1\" class=\"dataframe\">\n",
              "  <thead>\n",
              "    <tr style=\"text-align: left;\">\n",
              "      <th>epoch</th>\n",
              "      <th>train_loss</th>\n",
              "      <th>valid_loss</th>\n",
              "      <th>accuracy</th>\n",
              "      <th>time</th>\n",
              "    </tr>\n",
              "  </thead>\n",
              "  <tbody>\n",
              "    <tr>\n",
              "      <td>0</td>\n",
              "      <td>6.496308</td>\n",
              "      <td>#na#</td>\n",
              "      <td>00:08</td>\n",
              "    </tr>\n",
              "  </tbody>\n",
              "</table><p>\n",
              "\n",
              "    <div>\n",
              "        <style>\n",
              "            /* Turns off some styling */\n",
              "            progress {\n",
              "                /* gets rid of default border in Firefox and Opera. */\n",
              "                border: none;\n",
              "                /* Needs to be in here for Safari polyfill so background images work as expected. */\n",
              "                background-size: auto;\n",
              "            }\n",
              "            .progress-bar-interrupted, .progress-bar-interrupted::-webkit-progress-bar {\n",
              "                background: #F44336;\n",
              "            }\n",
              "        </style>\n",
              "      <progress value='42' class='' max='57' style='width:300px; height:20px; vertical-align: middle;'></progress>\n",
              "      73.68% [42/57 00:05<00:02 10.5020]\n",
              "    </div>\n",
              "    "
            ],
            "text/plain": [
              "<IPython.core.display.HTML object>"
            ]
          },
          "metadata": {
            "tags": []
          }
        },
        {
          "output_type": "stream",
          "text": [
            "LR Finder is complete, type {learner_name}.recorder.plot() to see the graph.\n"
          ],
          "name": "stdout"
        }
      ]
    },
    {
      "cell_type": "markdown",
      "metadata": {
        "id": "-rpqUHBiKeZn",
        "colab_type": "text"
      },
      "source": [
        "If we pass suggestion=True in the learn.recorder.plot(), we can obtain the point where the gradient is the steepest. It is indicated with a red dot on the graph. We can use that point as the first guess for our Learning Rate."
      ]
    },
    {
      "cell_type": "code",
      "metadata": {
        "id": "lOhk6dFtiYHq",
        "colab_type": "code",
        "colab": {
          "base_uri": "https://localhost:8080/",
          "height": 319
        },
        "outputId": "73a987e2-05d0-4113-ad59-064651e3daa5"
      },
      "source": [
        "model.recorder.plot(suggestion=True)"
      ],
      "execution_count": 57,
      "outputs": [
        {
          "output_type": "stream",
          "text": [
            "Min numerical gradient: 4.79E-02\n",
            "Min loss divided by 10: 6.31E-02\n"
          ],
          "name": "stdout"
        },
        {
          "output_type": "display_data",
          "data": {
            "image/png": "[encoded data removed]",
            "text/plain": [
              "<Figure size 432x288 with 1 Axes>"
            ]
          },
          "metadata": {
            "tags": []
          }
        }
      ]
    },
    {
      "cell_type": "markdown",
      "metadata": {
        "id": "gSvOsr07MKzd",
        "colab_type": "text"
      },
      "source": [
        "As evident from the graph plotted above, we will take 1e-01  as the learning rate since approximately after that the loss starts minimizing.\n"
      ]
    },
    {
      "cell_type": "code",
      "metadata": {
        "id": "Xh5ul9fmtw6_",
        "colab_type": "code",
        "colab": {
          "base_uri": "https://localhost:8080/",
          "height": 80
        },
        "outputId": "fbd0c665-565f-43c9-9015-5065036e7e03"
      },
      "source": [
        "model.fit_one_cycle(cyc_len=1,max_lr=1e-01,moms=(0.80,0.70))"
      ],
      "execution_count": 58,
      "outputs": [
        {
          "output_type": "display_data",
          "data": {
            "text/html": [
              "<table border=\"1\" class=\"dataframe\">\n",
              "  <thead>\n",
              "    <tr style=\"text-align: left;\">\n",
              "      <th>epoch</th>\n",
              "      <th>train_loss</th>\n",
              "      <th>valid_loss</th>\n",
              "      <th>accuracy</th>\n",
              "      <th>time</th>\n",
              "    </tr>\n",
              "  </thead>\n",
              "  <tbody>\n",
              "    <tr>\n",
              "      <td>0</td>\n",
              "      <td>4.582178</td>\n",
              "      <td>4.056767</td>\n",
              "      <td>0.258578</td>\n",
              "      <td>00:08</td>\n",
              "    </tr>\n",
              "  </tbody>\n",
              "</table>"
            ],
            "text/plain": [
              "<IPython.core.display.HTML object>"
            ]
          },
          "metadata": {
            "tags": []
          }
        }
      ]
    },
    {
      "cell_type": "markdown",
      "metadata": {
        "id": "qZNvTcrcYMP-",
        "colab_type": "text"
      },
      "source": [
        "Unfreezing the LSTM layers of the model"
      ]
    },
    {
      "cell_type": "code",
      "metadata": {
        "id": "-euEyT4aOQsa",
        "colab_type": "code",
        "colab": {}
      },
      "source": [
        "model.unfreeze()"
      ],
      "execution_count": 59,
      "outputs": []
    },
    {
      "cell_type": "code",
      "metadata": {
        "id": "Sg9iHk5MaOkK",
        "colab_type": "code",
        "colab": {
          "base_uri": "https://localhost:8080/",
          "height": 235
        },
        "outputId": "fb130b0c-660f-405f-a8cb-c51bc03cf48f"
      },
      "source": [
        "model.fit_one_cycle(cyc_len=6, max_lr=slice(1e-01/(2.6),3.98e-02), moms=(0.80, 0.70))"
      ],
      "execution_count": 60,
      "outputs": [
        {
          "output_type": "display_data",
          "data": {
            "text/html": [
              "<table border=\"1\" class=\"dataframe\">\n",
              "  <thead>\n",
              "    <tr style=\"text-align: left;\">\n",
              "      <th>epoch</th>\n",
              "      <th>train_loss</th>\n",
              "      <th>valid_loss</th>\n",
              "      <th>accuracy</th>\n",
              "      <th>time</th>\n",
              "    </tr>\n",
              "  </thead>\n",
              "  <tbody>\n",
              "    <tr>\n",
              "      <td>0</td>\n",
              "      <td>3.905700</td>\n",
              "      <td>4.013437</td>\n",
              "      <td>0.256154</td>\n",
              "      <td>00:11</td>\n",
              "    </tr>\n",
              "    <tr>\n",
              "      <td>1</td>\n",
              "      <td>4.001692</td>\n",
              "      <td>4.061870</td>\n",
              "      <td>0.250638</td>\n",
              "      <td>00:11</td>\n",
              "    </tr>\n",
              "    <tr>\n",
              "      <td>2</td>\n",
              "      <td>3.944696</td>\n",
              "      <td>3.988710</td>\n",
              "      <td>0.262787</td>\n",
              "      <td>00:11</td>\n",
              "    </tr>\n",
              "    <tr>\n",
              "      <td>3</td>\n",
              "      <td>3.759400</td>\n",
              "      <td>3.907560</td>\n",
              "      <td>0.273087</td>\n",
              "      <td>00:11</td>\n",
              "    </tr>\n",
              "    <tr>\n",
              "      <td>4</td>\n",
              "      <td>3.437469</td>\n",
              "      <td>3.903363</td>\n",
              "      <td>0.279082</td>\n",
              "      <td>00:12</td>\n",
              "    </tr>\n",
              "    <tr>\n",
              "      <td>5</td>\n",
              "      <td>2.985248</td>\n",
              "      <td>3.987890</td>\n",
              "      <td>0.277264</td>\n",
              "      <td>00:12</td>\n",
              "    </tr>\n",
              "  </tbody>\n",
              "</table>"
            ],
            "text/plain": [
              "<IPython.core.display.HTML object>"
            ]
          },
          "metadata": {
            "tags": []
          }
        }
      ]
    },
    {
      "cell_type": "code",
      "metadata": {
        "id": "PO0twKA-dJOL",
        "colab_type": "code",
        "colab": {}
      },
      "source": [
        "model.save_encoder('encoder')"
      ],
      "execution_count": 61,
      "outputs": []
    },
    {
      "cell_type": "markdown",
      "metadata": {
        "id": "lPZf_7E8dQkf",
        "colab_type": "text"
      },
      "source": [
        "### Classification Language Model Building"
      ]
    },
    {
      "cell_type": "code",
      "metadata": {
        "id": "22-ZXM15ezo-",
        "colab_type": "code",
        "colab": {
          "base_uri": "https://localhost:8080/",
          "height": 17
        },
        "outputId": "89768a8a-6be4-4f15-9eaa-de31b3d2a68b"
      },
      "source": [
        "tweet_classfier = TextClasDataBunch.from_csv(path='',csv_name='twitter_train.csv',\n",
        "                              vocab=tweet.train_ds.vocab,bs=32,text_cols='cleaned_tweets',label_cols='airline_sentiment')\n"
      ],
      "execution_count": 67,
      "outputs": [
        {
          "output_type": "display_data",
          "data": {
            "text/html": [
              ""
            ],
            "text/plain": [
              "<IPython.core.display.HTML object>"
            ]
          },
          "metadata": {
            "tags": []
          }
        },
        {
          "output_type": "display_data",
          "data": {
            "text/html": [
              ""
            ],
            "text/plain": [
              "<IPython.core.display.HTML object>"
            ]
          },
          "metadata": {
            "tags": []
          }
        }
      ]
    },
    {
      "cell_type": "markdown",
      "metadata": {
        "id": "rdMQRIlihz1W",
        "colab_type": "text"
      },
      "source": [
        "By using 'text_classifier_learner' we will create a learner object. "
      ]
    },
    {
      "cell_type": "code",
      "metadata": {
        "id": "KavILC9ZjnSS",
        "colab_type": "code",
        "colab": {}
      },
      "source": [
        "learn_model = text_classifier_learner(tweet_classfier, AWD_LSTM, drop_mult=0.5)"
      ],
      "execution_count": 71,
      "outputs": []
    },
    {
      "cell_type": "markdown",
      "metadata": {
        "id": "f11Kv7vIkBl3",
        "colab_type": "text"
      },
      "source": [
        "Then we will load the encoder into this object i.e learner"
      ]
    },
    {
      "cell_type": "code",
      "metadata": {
        "id": "qj9ucPNNj_Dy",
        "colab_type": "code",
        "colab": {
          "base_uri": "https://localhost:8080/",
          "height": 1000
        },
        "outputId": "f0c57b17-cf2b-49a8-c46c-fef91112bb14"
      },
      "source": [
        "learn_model.load_encoder('encoder')"
      ],
      "execution_count": 72,
      "outputs": [
        {
          "output_type": "execute_result",
          "data": {
            "text/plain": [
              "RNNLearner(data=TextClasDataBunch;\n",
              "\n",
              "Train: LabelList (9369 items)\n",
              "x: TextList\n",
              "xxbos @southwestair up at xxup 4am and arrive to find it already xxmaj cancelled xxmaj flighted . xxmaj no options so miss my meeting . xxmaj you might \" know \" but do n't show it .,xxbos @united , xxmaj understandable . i did try xxmaj flight xxmaj booking xxmaj problems several times for 2 passengers & & got the messages i mentioned before . xxmaj as for the agents price ? ? ?,xxbos @united left my ipad on xxup xxunk flight 174 . xxmaj how long to hear back once claim submitted ? xxup ty !,xxbos @americanair you xxmaj cancelled xxmaj flight both flights yesterday and rebook me in middle seat . xxmaj not acceptable . xxmaj upgrade to emergency row would help . nothappy,xxbos @united xxmaj do we know why xxup xxunk is delayed x2 ) ? xxmaj this is getting crazy . i 've already had 2 overnight delays . unitedairlines\n",
              "y: CategoryList\n",
              "negative,neutral,neutral,negative,negative\n",
              "Path: .;\n",
              "\n",
              "Valid: LabelList (2343 items)\n",
              "x: TextList\n",
              "xxbos @jetblue boarding the back of the airplane first . xxmaj like a boss . xxunk jetblue xxunk xxunk,xxbos @united xxmaj gate agent hooked me up with alternate flights . xxmaj if you have a way to xxup prevent the constant issues , that would rock .,xxbos @americanair xxmaj flt xxmaj cancelled xxmaj flighted , rescheduled to bad time . xxmaj tried 800 # 3hrs . xxmaj website states ca n't do online = useless website . xxmaj help ?,xxbos @usairways i got an email asking me to checkin xxup tmrw for a flight i meant to book for 3 / 19 - can someone please help ! xxunk xxup xxunk,xxbos @southwestair xxup xxunk do nt have xxmaj atlanta to xxmaj san xxunk in 99 $ in the present sale , like u had in the last xxunk looking for 2 return tickets\n",
              "y: CategoryList\n",
              "positive,negative,negative,neutral,neutral\n",
              "Path: .;\n",
              "\n",
              "Test: None, model=SequentialRNN(\n",
              "  (0): MultiBatchEncoder(\n",
              "    (module): AWD_LSTM(\n",
              "      (encoder): Embedding(5536, 400, padding_idx=1)\n",
              "      (encoder_dp): EmbeddingDropout(\n",
              "        (emb): Embedding(5536, 400, padding_idx=1)\n",
              "      )\n",
              "      (rnns): ModuleList(\n",
              "        (0): WeightDropout(\n",
              "          (module): LSTM(400, 1152, batch_first=True)\n",
              "        )\n",
              "        (1): WeightDropout(\n",
              "          (module): LSTM(1152, 1152, batch_first=True)\n",
              "        )\n",
              "        (2): WeightDropout(\n",
              "          (module): LSTM(1152, 400, batch_first=True)\n",
              "        )\n",
              "      )\n",
              "      (input_dp): RNNDropout()\n",
              "      (hidden_dps): ModuleList(\n",
              "        (0): RNNDropout()\n",
              "        (1): RNNDropout()\n",
              "        (2): RNNDropout()\n",
              "      )\n",
              "    )\n",
              "  )\n",
              "  (1): PoolingLinearClassifier(\n",
              "    (layers): Sequential(\n",
              "      (0): BatchNorm1d(1200, eps=1e-05, momentum=0.1, affine=True, track_running_stats=True)\n",
              "      (1): Dropout(p=0.2, inplace=False)\n",
              "      (2): Linear(in_features=1200, out_features=50, bias=True)\n",
              "      (3): ReLU(inplace=True)\n",
              "      (4): BatchNorm1d(50, eps=1e-05, momentum=0.1, affine=True, track_running_stats=True)\n",
              "      (5): Dropout(p=0.1, inplace=False)\n",
              "      (6): Linear(in_features=50, out_features=3, bias=True)\n",
              "    )\n",
              "  )\n",
              "), opt_func=functools.partial(<class 'torch.optim.adam.Adam'>, betas=(0.9, 0.99)), loss_func=FlattenedLoss of CrossEntropyLoss(), metrics=[<function accuracy at 0x7fc948105620>], true_wd=True, bn_wd=True, wd=0.01, train_bn=True, path=PosixPath('.'), model_dir='models', callback_fns=[functools.partial(<class 'fastai.basic_train.Recorder'>, add_time=True, silent=False)], callbacks=[RNNTrainer\n",
              "learn: RNNLearner(data=TextClasDataBunch;\n",
              "\n",
              "Train: LabelList (9369 items)\n",
              "x: TextList\n",
              "xxbos @southwestair up at xxup 4am and arrive to find it already xxmaj cancelled xxmaj flighted . xxmaj no options so miss my meeting . xxmaj you might \" know \" but do n't show it .,xxbos @united , xxmaj understandable . i did try xxmaj flight xxmaj booking xxmaj problems several times for 2 passengers & & got the messages i mentioned before . xxmaj as for the agents price ? ? ?,xxbos @united left my ipad on xxup xxunk flight 174 . xxmaj how long to hear back once claim submitted ? xxup ty !,xxbos @americanair you xxmaj cancelled xxmaj flight both flights yesterday and rebook me in middle seat . xxmaj not acceptable . xxmaj upgrade to emergency row would help . nothappy,xxbos @united xxmaj do we know why xxup xxunk is delayed x2 ) ? xxmaj this is getting crazy . i 've already had 2 overnight delays . unitedairlines\n",
              "y: CategoryList\n",
              "negative,neutral,neutral,negative,negative\n",
              "Path: .;\n",
              "\n",
              "Valid: LabelList (2343 items)\n",
              "x: TextList\n",
              "xxbos @jetblue boarding the back of the airplane first . xxmaj like a boss . xxunk jetblue xxunk xxunk,xxbos @united xxmaj gate agent hooked me up with alternate flights . xxmaj if you have a way to xxup prevent the constant issues , that would rock .,xxbos @americanair xxmaj flt xxmaj cancelled xxmaj flighted , rescheduled to bad time . xxmaj tried 800 # 3hrs . xxmaj website states ca n't do online = useless website . xxmaj help ?,xxbos @usairways i got an email asking me to checkin xxup tmrw for a flight i meant to book for 3 / 19 - can someone please help ! xxunk xxup xxunk,xxbos @southwestair xxup xxunk do nt have xxmaj atlanta to xxmaj san xxunk in 99 $ in the present sale , like u had in the last xxunk looking for 2 return tickets\n",
              "y: CategoryList\n",
              "positive,negative,negative,neutral,neutral\n",
              "Path: .;\n",
              "\n",
              "Test: None, model=SequentialRNN(\n",
              "  (0): MultiBatchEncoder(\n",
              "    (module): AWD_LSTM(\n",
              "      (encoder): Embedding(5536, 400, padding_idx=1)\n",
              "      (encoder_dp): EmbeddingDropout(\n",
              "        (emb): Embedding(5536, 400, padding_idx=1)\n",
              "      )\n",
              "      (rnns): ModuleList(\n",
              "        (0): WeightDropout(\n",
              "          (module): LSTM(400, 1152, batch_first=True)\n",
              "        )\n",
              "        (1): WeightDropout(\n",
              "          (module): LSTM(1152, 1152, batch_first=True)\n",
              "        )\n",
              "        (2): WeightDropout(\n",
              "          (module): LSTM(1152, 400, batch_first=True)\n",
              "        )\n",
              "      )\n",
              "      (input_dp): RNNDropout()\n",
              "      (hidden_dps): ModuleList(\n",
              "        (0): RNNDropout()\n",
              "        (1): RNNDropout()\n",
              "        (2): RNNDropout()\n",
              "      )\n",
              "    )\n",
              "  )\n",
              "  (1): PoolingLinearClassifier(\n",
              "    (layers): Sequential(\n",
              "      (0): BatchNorm1d(1200, eps=1e-05, momentum=0.1, affine=True, track_running_stats=True)\n",
              "      (1): Dropout(p=0.2, inplace=False)\n",
              "      (2): Linear(in_features=1200, out_features=50, bias=True)\n",
              "      (3): ReLU(inplace=True)\n",
              "      (4): BatchNorm1d(50, eps=1e-05, momentum=0.1, affine=True, track_running_stats=True)\n",
              "      (5): Dropout(p=0.1, inplace=False)\n",
              "      (6): Linear(in_features=50, out_features=3, bias=True)\n",
              "    )\n",
              "  )\n",
              "), opt_func=functools.partial(<class 'torch.optim.adam.Adam'>, betas=(0.9, 0.99)), loss_func=FlattenedLoss of CrossEntropyLoss(), metrics=[<function accuracy at 0x7fc948105620>], true_wd=True, bn_wd=True, wd=0.01, train_bn=True, path=PosixPath('.'), model_dir='models', callback_fns=[functools.partial(<class 'fastai.basic_train.Recorder'>, add_time=True, silent=False)], callbacks=[...], layer_groups=[Sequential(\n",
              "  (0): Embedding(5536, 400, padding_idx=1)\n",
              "  (1): EmbeddingDropout(\n",
              "    (emb): Embedding(5536, 400, padding_idx=1)\n",
              "  )\n",
              "), Sequential(\n",
              "  (0): WeightDropout(\n",
              "    (module): LSTM(400, 1152, batch_first=True)\n",
              "  )\n",
              "  (1): RNNDropout()\n",
              "), Sequential(\n",
              "  (0): WeightDropout(\n",
              "    (module): LSTM(1152, 1152, batch_first=True)\n",
              "  )\n",
              "  (1): RNNDropout()\n",
              "), Sequential(\n",
              "  (0): WeightDropout(\n",
              "    (module): LSTM(1152, 400, batch_first=True)\n",
              "  )\n",
              "  (1): RNNDropout()\n",
              "), Sequential(\n",
              "  (0): PoolingLinearClassifier(\n",
              "    (layers): Sequential(\n",
              "      (0): BatchNorm1d(1200, eps=1e-05, momentum=0.1, affine=True, track_running_stats=True)\n",
              "      (1): Dropout(p=0.2, inplace=False)\n",
              "      (2): Linear(in_features=1200, out_features=50, bias=True)\n",
              "      (3): ReLU(inplace=True)\n",
              "      (4): BatchNorm1d(50, eps=1e-05, momentum=0.1, affine=True, track_running_stats=True)\n",
              "      (5): Dropout(p=0.1, inplace=False)\n",
              "      (6): Linear(in_features=50, out_features=3, bias=True)\n",
              "    )\n",
              "  )\n",
              ")], add_time=True, silent=False)\n",
              "alpha: 2.0\n",
              "beta: 1.0], layer_groups=[Sequential(\n",
              "  (0): Embedding(5536, 400, padding_idx=1)\n",
              "  (1): EmbeddingDropout(\n",
              "    (emb): Embedding(5536, 400, padding_idx=1)\n",
              "  )\n",
              "), Sequential(\n",
              "  (0): WeightDropout(\n",
              "    (module): LSTM(400, 1152, batch_first=True)\n",
              "  )\n",
              "  (1): RNNDropout()\n",
              "), Sequential(\n",
              "  (0): WeightDropout(\n",
              "    (module): LSTM(1152, 1152, batch_first=True)\n",
              "  )\n",
              "  (1): RNNDropout()\n",
              "), Sequential(\n",
              "  (0): WeightDropout(\n",
              "    (module): LSTM(1152, 400, batch_first=True)\n",
              "  )\n",
              "  (1): RNNDropout()\n",
              "), Sequential(\n",
              "  (0): PoolingLinearClassifier(\n",
              "    (layers): Sequential(\n",
              "      (0): BatchNorm1d(1200, eps=1e-05, momentum=0.1, affine=True, track_running_stats=True)\n",
              "      (1): Dropout(p=0.2, inplace=False)\n",
              "      (2): Linear(in_features=1200, out_features=50, bias=True)\n",
              "      (3): ReLU(inplace=True)\n",
              "      (4): BatchNorm1d(50, eps=1e-05, momentum=0.1, affine=True, track_running_stats=True)\n",
              "      (5): Dropout(p=0.1, inplace=False)\n",
              "      (6): Linear(in_features=50, out_features=3, bias=True)\n",
              "    )\n",
              "  )\n",
              ")], add_time=True, silent=False)"
            ]
          },
          "metadata": {
            "tags": []
          },
          "execution_count": 72
        }
      ]
    },
    {
      "cell_type": "markdown",
      "metadata": {
        "id": "Ig12JCesPF6k",
        "colab_type": "text"
      },
      "source": [
        "\n",
        "We will peform Gradual Unfreezing to prevent the model from forgetting the features."
      ]
    },
    {
      "cell_type": "code",
      "metadata": {
        "id": "bppGycBXYCQr",
        "colab_type": "code",
        "colab": {
          "base_uri": "https://localhost:8080/",
          "height": 112
        },
        "outputId": "0dd47422-715b-4dd5-cd33-8244bdc02b14"
      },
      "source": [
        "learn_model.lr_find()"
      ],
      "execution_count": 73,
      "outputs": [
        {
          "output_type": "display_data",
          "data": {
            "text/html": [
              "\n",
              "    <div>\n",
              "        <style>\n",
              "            /* Turns off some styling */\n",
              "            progress {\n",
              "                /* gets rid of default border in Firefox and Opera. */\n",
              "                border: none;\n",
              "                /* Needs to be in here for Safari polyfill so background images work as expected. */\n",
              "                background-size: auto;\n",
              "            }\n",
              "            .progress-bar-interrupted, .progress-bar-interrupted::-webkit-progress-bar {\n",
              "                background: #F44336;\n",
              "            }\n",
              "        </style>\n",
              "      <progress value='0' class='' max='1' style='width:300px; height:20px; vertical-align: middle;'></progress>\n",
              "      0.00% [0/1 00:00<00:00]\n",
              "    </div>\n",
              "    \n",
              "<table border=\"1\" class=\"dataframe\">\n",
              "  <thead>\n",
              "    <tr style=\"text-align: left;\">\n",
              "      <th>epoch</th>\n",
              "      <th>train_loss</th>\n",
              "      <th>valid_loss</th>\n",
              "      <th>accuracy</th>\n",
              "      <th>time</th>\n",
              "    </tr>\n",
              "  </thead>\n",
              "  <tbody>\n",
              "  </tbody>\n",
              "</table><p>\n",
              "\n",
              "    <div>\n",
              "        <style>\n",
              "            /* Turns off some styling */\n",
              "            progress {\n",
              "                /* gets rid of default border in Firefox and Opera. */\n",
              "                border: none;\n",
              "                /* Needs to be in here for Safari polyfill so background images work as expected. */\n",
              "                background-size: auto;\n",
              "            }\n",
              "            .progress-bar-interrupted, .progress-bar-interrupted::-webkit-progress-bar {\n",
              "                background: #F44336;\n",
              "            }\n",
              "        </style>\n",
              "      <progress value='87' class='' max='292' style='width:300px; height:20px; vertical-align: middle;'></progress>\n",
              "      29.79% [87/292 00:01<00:04 1.2922]\n",
              "    </div>\n",
              "    "
            ],
            "text/plain": [
              "<IPython.core.display.HTML object>"
            ]
          },
          "metadata": {
            "tags": []
          }
        },
        {
          "output_type": "stream",
          "text": [
            "LR Finder is complete, type {learner_name}.recorder.plot() to see the graph.\n"
          ],
          "name": "stdout"
        }
      ]
    },
    {
      "cell_type": "code",
      "metadata": {
        "id": "cfdOuPeJQU0j",
        "colab_type": "code",
        "colab": {
          "base_uri": "https://localhost:8080/",
          "height": 319
        },
        "outputId": "88b241ce-9486-4dca-c8a0-46f900a5f726"
      },
      "source": [
        "learn_model.recorder.plot(suggestion=True)"
      ],
      "execution_count": 75,
      "outputs": [
        {
          "output_type": "stream",
          "text": [
            "Min numerical gradient: 4.37E-03\n",
            "Min loss divided by 10: 1.74E-02\n"
          ],
          "name": "stdout"
        },
        {
          "output_type": "display_data",
          "data": {
            "image/png": "[encoded data removed]",
            "text/plain": [
              "<Figure size 432x288 with 1 Axes>"
            ]
          },
          "metadata": {
            "tags": []
          }
        }
      ]
    },
    {
      "cell_type": "markdown",
      "metadata": {
        "id": "4KXG3PR-RzkL",
        "colab_type": "text"
      },
      "source": [
        "Similarly, how we did before, we choose a learning rate (optimized one) before the graph starts descending and reaches a minimum. Along with it, we will use the one cycle policy."
      ]
    },
    {
      "cell_type": "code",
      "metadata": {
        "id": "MCkTVjdQQ1G_",
        "colab_type": "code",
        "colab": {
          "base_uri": "https://localhost:8080/",
          "height": 235
        },
        "outputId": "d626fcea-2d84-4a70-85a4-a9901c621715"
      },
      "source": [
        "learn_model.fit_one_cycle(6,4.37E-03,moms=(0.8,0.7))"
      ],
      "execution_count": 76,
      "outputs": [
        {
          "output_type": "display_data",
          "data": {
            "text/html": [
              "<table border=\"1\" class=\"dataframe\">\n",
              "  <thead>\n",
              "    <tr style=\"text-align: left;\">\n",
              "      <th>epoch</th>\n",
              "      <th>train_loss</th>\n",
              "      <th>valid_loss</th>\n",
              "      <th>accuracy</th>\n",
              "      <th>time</th>\n",
              "    </tr>\n",
              "  </thead>\n",
              "  <tbody>\n",
              "    <tr>\n",
              "      <td>0</td>\n",
              "      <td>0.696083</td>\n",
              "      <td>0.570879</td>\n",
              "      <td>0.780196</td>\n",
              "      <td>00:06</td>\n",
              "    </tr>\n",
              "    <tr>\n",
              "      <td>1</td>\n",
              "      <td>0.608190</td>\n",
              "      <td>0.531523</td>\n",
              "      <td>0.787025</td>\n",
              "      <td>00:06</td>\n",
              "    </tr>\n",
              "    <tr>\n",
              "      <td>2</td>\n",
              "      <td>0.598295</td>\n",
              "      <td>0.526299</td>\n",
              "      <td>0.793000</td>\n",
              "      <td>00:06</td>\n",
              "    </tr>\n",
              "    <tr>\n",
              "      <td>3</td>\n",
              "      <td>0.580342</td>\n",
              "      <td>0.529145</td>\n",
              "      <td>0.793854</td>\n",
              "      <td>00:06</td>\n",
              "    </tr>\n",
              "    <tr>\n",
              "      <td>4</td>\n",
              "      <td>0.573895</td>\n",
              "      <td>0.519830</td>\n",
              "      <td>0.799402</td>\n",
              "      <td>00:06</td>\n",
              "    </tr>\n",
              "    <tr>\n",
              "      <td>5</td>\n",
              "      <td>0.534017</td>\n",
              "      <td>0.517458</td>\n",
              "      <td>0.804097</td>\n",
              "      <td>00:06</td>\n",
              "    </tr>\n",
              "  </tbody>\n",
              "</table>"
            ],
            "text/plain": [
              "<IPython.core.display.HTML object>"
            ]
          },
          "metadata": {
            "tags": []
          }
        }
      ]
    },
    {
      "cell_type": "markdown",
      "metadata": {
        "id": "b4XfM-GCSSzs",
        "colab_type": "text"
      },
      "source": [
        "We need to Unfreeze next layer."
      ]
    },
    {
      "cell_type": "code",
      "metadata": {
        "id": "lcV_Op-cSYDi",
        "colab_type": "code",
        "colab": {}
      },
      "source": [
        "learn_model.freeze_to(-2)"
      ],
      "execution_count": 77,
      "outputs": []
    },
    {
      "cell_type": "markdown",
      "metadata": {
        "id": "tPGZDSJKVzjR",
        "colab_type": "text"
      },
      "source": [
        "Rather than using the same learning rate for all layers, we will use discriminative for fine-tuning which enables us to apply specific learning rates to the layers of our neural network.\n"
      ]
    },
    {
      "cell_type": "code",
      "metadata": {
        "id": "DzZHb8dVWM_n",
        "colab_type": "code",
        "colab": {
          "base_uri": "https://localhost:8080/",
          "height": 235
        },
        "outputId": "8a8c0fe5-5d02-4ce0-e283-e212cc7ca71a"
      },
      "source": [
        "learn_model.fit_one_cycle(6,slice(4.37E-03/(2.6),4.37E-03))"
      ],
      "execution_count": 78,
      "outputs": [
        {
          "output_type": "display_data",
          "data": {
            "text/html": [
              "<table border=\"1\" class=\"dataframe\">\n",
              "  <thead>\n",
              "    <tr style=\"text-align: left;\">\n",
              "      <th>epoch</th>\n",
              "      <th>train_loss</th>\n",
              "      <th>valid_loss</th>\n",
              "      <th>accuracy</th>\n",
              "      <th>time</th>\n",
              "    </tr>\n",
              "  </thead>\n",
              "  <tbody>\n",
              "    <tr>\n",
              "      <td>0</td>\n",
              "      <td>0.545659</td>\n",
              "      <td>0.506306</td>\n",
              "      <td>0.801110</td>\n",
              "      <td>00:07</td>\n",
              "    </tr>\n",
              "    <tr>\n",
              "      <td>1</td>\n",
              "      <td>0.543679</td>\n",
              "      <td>0.505273</td>\n",
              "      <td>0.801537</td>\n",
              "      <td>00:07</td>\n",
              "    </tr>\n",
              "    <tr>\n",
              "      <td>2</td>\n",
              "      <td>0.530995</td>\n",
              "      <td>0.507562</td>\n",
              "      <td>0.811780</td>\n",
              "      <td>00:07</td>\n",
              "    </tr>\n",
              "    <tr>\n",
              "      <td>3</td>\n",
              "      <td>0.422513</td>\n",
              "      <td>0.508244</td>\n",
              "      <td>0.806231</td>\n",
              "      <td>00:07</td>\n",
              "    </tr>\n",
              "    <tr>\n",
              "      <td>4</td>\n",
              "      <td>0.348320</td>\n",
              "      <td>0.526361</td>\n",
              "      <td>0.805805</td>\n",
              "      <td>00:07</td>\n",
              "    </tr>\n",
              "    <tr>\n",
              "      <td>5</td>\n",
              "      <td>0.302408</td>\n",
              "      <td>0.531634</td>\n",
              "      <td>0.809646</td>\n",
              "      <td>00:07</td>\n",
              "    </tr>\n",
              "  </tbody>\n",
              "</table>"
            ],
            "text/plain": [
              "<IPython.core.display.HTML object>"
            ]
          },
          "metadata": {
            "tags": []
          }
        }
      ]
    },
    {
      "cell_type": "markdown",
      "metadata": {
        "id": "wkKXdnLxXfSx",
        "colab_type": "text"
      },
      "source": [
        "Now we will repeat the process with next layer."
      ]
    },
    {
      "cell_type": "code",
      "metadata": {
        "id": "27fZXuLIXkuM",
        "colab_type": "code",
        "colab": {
          "base_uri": "https://localhost:8080/",
          "height": 235
        },
        "outputId": "61b29c14-9cff-495e-98f6-4c4b2e10ce44"
      },
      "source": [
        "learn_model.freeze_to(-3)\n",
        "learn_model.fit_one_cycle(6,slice(4.37E-03/(2.6),4.37E-03))"
      ],
      "execution_count": 79,
      "outputs": [
        {
          "output_type": "display_data",
          "data": {
            "text/html": [
              "<table border=\"1\" class=\"dataframe\">\n",
              "  <thead>\n",
              "    <tr style=\"text-align: left;\">\n",
              "      <th>epoch</th>\n",
              "      <th>train_loss</th>\n",
              "      <th>valid_loss</th>\n",
              "      <th>accuracy</th>\n",
              "      <th>time</th>\n",
              "    </tr>\n",
              "  </thead>\n",
              "  <tbody>\n",
              "    <tr>\n",
              "      <td>0</td>\n",
              "      <td>0.339741</td>\n",
              "      <td>0.553870</td>\n",
              "      <td>0.810499</td>\n",
              "      <td>00:11</td>\n",
              "    </tr>\n",
              "    <tr>\n",
              "      <td>1</td>\n",
              "      <td>0.388957</td>\n",
              "      <td>0.554531</td>\n",
              "      <td>0.809646</td>\n",
              "      <td>00:11</td>\n",
              "    </tr>\n",
              "    <tr>\n",
              "      <td>2</td>\n",
              "      <td>0.319234</td>\n",
              "      <td>0.601407</td>\n",
              "      <td>0.801537</td>\n",
              "      <td>00:11</td>\n",
              "    </tr>\n",
              "    <tr>\n",
              "      <td>3</td>\n",
              "      <td>0.264641</td>\n",
              "      <td>0.587914</td>\n",
              "      <td>0.813487</td>\n",
              "      <td>00:11</td>\n",
              "    </tr>\n",
              "    <tr>\n",
              "      <td>4</td>\n",
              "      <td>0.183766</td>\n",
              "      <td>0.637854</td>\n",
              "      <td>0.812633</td>\n",
              "      <td>00:12</td>\n",
              "    </tr>\n",
              "    <tr>\n",
              "      <td>5</td>\n",
              "      <td>0.142150</td>\n",
              "      <td>0.648458</td>\n",
              "      <td>0.817328</td>\n",
              "      <td>00:11</td>\n",
              "    </tr>\n",
              "  </tbody>\n",
              "</table>"
            ],
            "text/plain": [
              "<IPython.core.display.HTML object>"
            ]
          },
          "metadata": {
            "tags": []
          }
        }
      ]
    },
    {
      "cell_type": "markdown",
      "metadata": {
        "id": "IiFX6ZjsYC9W",
        "colab_type": "text"
      },
      "source": [
        "We will unfreeze all the layers."
      ]
    },
    {
      "cell_type": "code",
      "metadata": {
        "id": "ZPvI45g5YS-U",
        "colab_type": "code",
        "colab": {
          "base_uri": "https://localhost:8080/",
          "height": 235
        },
        "outputId": "21d33e77-a9c1-491c-d06a-44bd615c3d7e"
      },
      "source": [
        "learn_model.unfreeze()\n",
        "learn_model.fit_one_cycle(6,slice(4.37E-03/(2.6),4.37E-03))"
      ],
      "execution_count": 80,
      "outputs": [
        {
          "output_type": "display_data",
          "data": {
            "text/html": [
              "<table border=\"1\" class=\"dataframe\">\n",
              "  <thead>\n",
              "    <tr style=\"text-align: left;\">\n",
              "      <th>epoch</th>\n",
              "      <th>train_loss</th>\n",
              "      <th>valid_loss</th>\n",
              "      <th>accuracy</th>\n",
              "      <th>time</th>\n",
              "    </tr>\n",
              "  </thead>\n",
              "  <tbody>\n",
              "    <tr>\n",
              "      <td>0</td>\n",
              "      <td>0.158934</td>\n",
              "      <td>0.701993</td>\n",
              "      <td>0.809646</td>\n",
              "      <td>00:14</td>\n",
              "    </tr>\n",
              "    <tr>\n",
              "      <td>1</td>\n",
              "      <td>0.254960</td>\n",
              "      <td>0.647828</td>\n",
              "      <td>0.810926</td>\n",
              "      <td>00:14</td>\n",
              "    </tr>\n",
              "    <tr>\n",
              "      <td>2</td>\n",
              "      <td>0.246263</td>\n",
              "      <td>0.662258</td>\n",
              "      <td>0.805378</td>\n",
              "      <td>00:15</td>\n",
              "    </tr>\n",
              "    <tr>\n",
              "      <td>3</td>\n",
              "      <td>0.173739</td>\n",
              "      <td>0.666034</td>\n",
              "      <td>0.809219</td>\n",
              "      <td>00:16</td>\n",
              "    </tr>\n",
              "    <tr>\n",
              "      <td>4</td>\n",
              "      <td>0.141224</td>\n",
              "      <td>0.715210</td>\n",
              "      <td>0.814767</td>\n",
              "      <td>00:14</td>\n",
              "    </tr>\n",
              "    <tr>\n",
              "      <td>5</td>\n",
              "      <td>0.109072</td>\n",
              "      <td>0.724438</td>\n",
              "      <td>0.816901</td>\n",
              "      <td>00:15</td>\n",
              "    </tr>\n",
              "  </tbody>\n",
              "</table>"
            ],
            "text/plain": [
              "<IPython.core.display.HTML object>"
            ]
          },
          "metadata": {
            "tags": []
          }
        }
      ]
    },
    {
      "cell_type": "markdown",
      "metadata": {
        "id": "JT4u2S1_Y4WG",
        "colab_type": "text"
      },
      "source": [
        "## Prediction "
      ]
    },
    {
      "cell_type": "code",
      "metadata": {
        "id": "fG3RrwDXZEaS",
        "colab_type": "code",
        "colab": {
          "base_uri": "https://localhost:8080/",
          "height": 255
        },
        "outputId": "95cedb45-6dc0-4a0e-b31c-a7f65000c743"
      },
      "source": [
        "test_tweet = pd.read_csv('twitter_test.csv')\n",
        "print(test_tweet[['cleaned_tweets','airline_sentiment']])"
      ],
      "execution_count": 81,
      "outputs": [
        {
          "output_type": "stream",
          "text": [
            "                                         cleaned_tweets airline_sentiment\n",
            "0     @VirginAmerica has getaway deals through May, ...          positive\n",
            "1     @USAirways Thanks but when I asked for a chang...          negative\n",
            "2                     @united maybe on my return trip 👍          positive\n",
            "3     @JetBlue no I asked. Either way it doesn't mak...          negative\n",
            "4     @SouthwestAir Totally ruined my birthday weeke...          negative\n",
            "...                                                 ...               ...\n",
            "2923  @united next flight? Don't think I'll be spend...          negative\n",
            "2924  @AmericanAir @GolfWithWoody Don't buy it, Wood...          negative\n",
            "2925  @AmericanAir Cancelled Flight my flight saying...          negative\n",
            "2926  @SouthwestAir thanks to Ella-Mae at LAS counte...          positive\n",
            "2927  @USAirways reservations had me on hold for 2 h...          negative\n",
            "\n",
            "[2928 rows x 2 columns]\n"
          ],
          "name": "stdout"
        }
      ]
    },
    {
      "cell_type": "code",
      "metadata": {
        "id": "ViRzve0tWTDz",
        "colab_type": "code",
        "colab": {
          "base_uri": "https://localhost:8080/",
          "height": 204
        },
        "outputId": "eb3800ea-3dc1-4b75-f900-88fd266b6bda"
      },
      "source": [
        "test_tweet.head()"
      ],
      "execution_count": 82,
      "outputs": [
        {
          "output_type": "execute_result",
          "data": {
            "text/html": [
              "<div>\n",
              "<style scoped>\n",
              "    .dataframe tbody tr th:only-of-type {\n",
              "        vertical-align: middle;\n",
              "    }\n",
              "\n",
              "    .dataframe tbody tr th {\n",
              "        vertical-align: top;\n",
              "    }\n",
              "\n",
              "    .dataframe thead th {\n",
              "        text-align: right;\n",
              "    }\n",
              "</style>\n",
              "<table border=\"1\" class=\"dataframe\">\n",
              "  <thead>\n",
              "    <tr style=\"text-align: right;\">\n",
              "      <th></th>\n",
              "      <th>Unnamed: 0</th>\n",
              "      <th>cleaned_tweets</th>\n",
              "      <th>airline_sentiment</th>\n",
              "    </tr>\n",
              "  </thead>\n",
              "  <tbody>\n",
              "    <tr>\n",
              "      <th>0</th>\n",
              "      <td>111</td>\n",
              "      <td>@VirginAmerica has getaway deals through May, ...</td>\n",
              "      <td>positive</td>\n",
              "    </tr>\n",
              "    <tr>\n",
              "      <th>1</th>\n",
              "      <td>9369</td>\n",
              "      <td>@USAirways Thanks but when I asked for a chang...</td>\n",
              "      <td>negative</td>\n",
              "    </tr>\n",
              "    <tr>\n",
              "      <th>2</th>\n",
              "      <td>3113</td>\n",
              "      <td>@united maybe on my return trip 👍</td>\n",
              "      <td>positive</td>\n",
              "    </tr>\n",
              "    <tr>\n",
              "      <th>3</th>\n",
              "      <td>7235</td>\n",
              "      <td>@JetBlue no I asked. Either way it doesn't mak...</td>\n",
              "      <td>negative</td>\n",
              "    </tr>\n",
              "    <tr>\n",
              "      <th>4</th>\n",
              "      <td>5002</td>\n",
              "      <td>@SouthwestAir Totally ruined my birthday weeke...</td>\n",
              "      <td>negative</td>\n",
              "    </tr>\n",
              "  </tbody>\n",
              "</table>\n",
              "</div>"
            ],
            "text/plain": [
              "   Unnamed: 0  ... airline_sentiment\n",
              "0         111  ...          positive\n",
              "1        9369  ...          negative\n",
              "2        3113  ...          positive\n",
              "3        7235  ...          negative\n",
              "4        5002  ...          negative\n",
              "\n",
              "[5 rows x 3 columns]"
            ]
          },
          "metadata": {
            "tags": []
          },
          "execution_count": 82
        }
      ]
    },
    {
      "cell_type": "markdown",
      "metadata": {
        "id": "ucyFrYoO8rND",
        "colab_type": "text"
      },
      "source": [
        "### Prediction of new Tweets"
      ]
    },
    {
      "cell_type": "markdown",
      "metadata": {
        "id": "5EU5zp93eLCX",
        "colab_type": "text"
      },
      "source": [
        "We will append a new column for displayig the predicted values."
      ]
    },
    {
      "cell_type": "code",
      "metadata": {
        "id": "r-dlrmetegCh",
        "colab_type": "code",
        "colab": {
          "base_uri": "https://localhost:8080/",
          "height": 102
        },
        "outputId": "9202a286-ac0b-4539-90d2-2789876e4350"
      },
      "source": [
        "test_tweet['predicted_airline_sentiments'] = test_tweet['cleaned_tweets'].apply(lambda row:str(learn_model.predict(row)[0]))"
      ],
      "execution_count": 84,
      "outputs": [
        {
          "output_type": "stream",
          "text": [
            "/usr/local/lib/python3.6/dist-packages/fastai/text/data.py:339: UserWarning: This overload of nonzero is deprecated:\n",
            "\tnonzero()\n",
            "Consider using one of the following signatures instead:\n",
            "\tnonzero(*, bool as_tuple) (Triggered internally at  /pytorch/torch/csrc/utils/python_arg_parser.cpp:766.)\n",
            "  idx_min = (t != self.pad_idx).nonzero().min()\n"
          ],
          "name": "stderr"
        }
      ]
    },
    {
      "cell_type": "code",
      "metadata": {
        "id": "boAyO_5HgPuM",
        "colab_type": "code",
        "colab": {
          "base_uri": "https://localhost:8080/",
          "height": 34
        },
        "outputId": "ef670c29-8e2c-4a0f-bb60-6ff657656a3e"
      },
      "source": [
        "print(\"Model Accuracy- {}\".format(accuracy_score(test_tweet['airline_sentiment'],test_tweet[\n",
        "    'predicted_airline_sentiments'])))"
      ],
      "execution_count": 87,
      "outputs": [
        {
          "output_type": "stream",
          "text": [
            "Model Accuracy- 0.8189890710382514\n"
          ],
          "name": "stdout"
        }
      ]
    },
    {
      "cell_type": "markdown",
      "metadata": {
        "id": "B3BozxURZM0j",
        "colab_type": "text"
      },
      "source": [
        "## Conclusion\n"
      ]
    },
    {
      "cell_type": "markdown",
      "metadata": {
        "id": "hBnAtO7IZePq",
        "colab_type": "text"
      },
      "source": [
        "The final accuracy obtained by our ULMFiT model is 81.9 percent(which is very good accuracy.)"
      ]
    }
  ]
}